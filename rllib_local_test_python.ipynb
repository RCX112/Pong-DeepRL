{
 "cells": [
  {
   "cell_type": "code",
   "execution_count": null,
   "metadata": {},
   "outputs": [],
   "source": [
    "from src.deeprl_lib.rllib.jupong2d_ppo import *\n",
    "from src.deeprl_lib.rllib.jupong2d_plot_ppo_data import *\n",
    "\n",
    "class RunRLlib:\n",
    "    def __init__(self, output_folder, num_cpus, env_name, paddle_length, session=1, checkpoint_frequency=10, train_algorithm=\"PPO\"\n",
    "                , num_workers=3, env_per_worker=5, stop_reward=None, stop_iters=None, stop_timesteps=None, restore=True, \n",
    "                 as_test=False, play=False, play_steps=3):\n",
    "        self.num_cpus = num_cpus\n",
    "        self.paddle_length = paddle_length\n",
    "        self.session = session\n",
    "        self.checkpoint_freq = checkpoint_frequency\n",
    "        self.run_alg = train_algorithm\n",
    "        self.num_workers = num_workers\n",
    "        self.env_per_worker = env_per_worker\n",
    "        self.stop_reward = stop_reward\n",
    "        self.stop_iters = stop_iters\n",
    "        self.stop_timesteps = stop_timesteps\n",
    "        self.output_folder = output_folder\n",
    "        self.restore = restore\n",
    "        self.play = play\n",
    "        self.play_steps = play_steps\n",
    "        self.as_test = as_test\n",
    "        self.env_name = env_name\n",
    "\n",
    "        ray.shutdown()\n",
    "        ray.init(num_cpus=self.num_cpus or None)\n",
    "        register_gym_env(self.env_name, self.paddle_length)\n",
    "\n",
    "        self.config, self.stop = rllib_configurations(self.run_alg, self.env_name, self.num_workers, self.env_per_worker, \n",
    "                                     stop_reward=self.stop_reward, stop_iters=self.stop_iters, stop_timesteps=self.stop_timesteps)\n",
    "        self.save_folder, self.results_path = create_result_paths(self.output_folder, self.session, self.paddle_length)\n",
    "\n",
    "        self.latest_checkpoint_path = None\n",
    "        if os.path.exists(self.results_path) and len(os.listdir(self.results_path)) and (self.restore or self.play):\n",
    "            self.latest_checkpoint_path, self.checkpoint_number = get_latest_checkpoint(self.results_path)\n",
    "        print(f\"Path to latest checkpoint: {self.latest_checkpoint_path}\")\n",
    "\n",
    "    def start(self):\n",
    "        if not self.play:\n",
    "            print(\"Training the model\")\n",
    "            train_model(self.run_alg, self.config, self.stop, self.output_folder, self.checkpoint_freq, self.save_folder, self.latest_checkpoint_path, self.as_test, self.stop_reward)\n",
    "        else:\n",
    "            print(f\"Testing the model {self.latest_checkpoint_path}\")\n",
    "            test_agent(self.env_name, self.config, self.latest_checkpoint_path, self.results_path, self.play_steps, self.paddle_length)\n"
   ]
  },
  {
   "cell_type": "code",
   "execution_count": null,
   "metadata": {},
   "outputs": [],
   "source": [
    "def main():\n",
    "    results_folder = \"results/rllib_results\"\n",
    "    env_name = \"jupong2d\"\n",
    "    train_runner = RunRLlib(results_folder, 0, env_name, 2.0, session=2, checkpoint_frequency=5, stop_iters=5)\n",
    "    train_runner.start()\n",
    "    play_runner = RunRLlib(results_folder, 0, env_name, 2.0, session=2, play=True, play_steps=1)\n",
    "    play_runner.start()\n",
    "    ploter = JuPong2D_PPO_Plot(results_folder)\n",
    "    ploter.plot_paddle_length()\n",
    "\n",
    "\n",
    "main()"
   ]
  }
 ],
 "metadata": {
  "kernelspec": {
   "display_name": "my_kernel_01",
   "language": "python",
   "name": "my_kernel_01"
  },
  "language_info": {
   "codemirror_mode": {
    "name": "ipython",
    "version": 3
   },
   "file_extension": ".py",
   "mimetype": "text/x-python",
   "name": "python",
   "nbconvert_exporter": "python",
   "pygments_lexer": "ipython3",
   "version": "3.6.8"
  }
 },
 "nbformat": 4,
 "nbformat_minor": 4
}
