{
 "cells": [
  {
   "cell_type": "code",
   "execution_count": null,
   "metadata": {},
   "outputs": [],
   "source": [
    "from src.deeprl_lib.rllib.jupong2d_ppo import *\n",
    "from src.deeprl_lib.rllib.jupong2d_plot_ppo_data import *\n",
    "\n",
    "def main():\n",
    "    results_folder = \"results/rllib_results\"\n",
    "    env_name = \"jupong2d\"\n",
    "    train_runner = RunRLlib(results_folder, 0, env_name, 2.0, session=3, checkpoint_frequency=5, stop_iters=5)\n",
    "    train_runner.start()\n",
    "    play_runner = RunRLlib(results_folder, 0, env_name, 2.0, session=3, play=True, play_steps=1)\n",
    "    play_runner.start()\n",
    "    ploter = JuPong2D_PPO_Plot(results_folder)\n",
    "    ploter.plot_paddle_length()\n",
    "\n",
    "\n",
    "main()"
   ]
  }
 ],
 "metadata": {
  "kernelspec": {
   "display_name": "my_kernel_01",
   "language": "python",
   "name": "my_kernel_01"
  },
  "language_info": {
   "codemirror_mode": {
    "name": "ipython",
    "version": 3
   },
   "file_extension": ".py",
   "mimetype": "text/x-python",
   "name": "python",
   "nbconvert_exporter": "python",
   "pygments_lexer": "ipython3",
   "version": "3.6.8"
  }
 },
 "nbformat": 4,
 "nbformat_minor": 4
}
