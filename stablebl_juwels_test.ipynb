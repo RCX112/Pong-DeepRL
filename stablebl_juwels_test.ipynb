{
 "cells": [
  {
   "cell_type": "code",
   "execution_count": null,
   "metadata": {},
   "outputs": [],
   "source": [
    "import os\n",
    "import time\n",
    "from subprocess import (Popen, PIPE)\n",
    "\n",
    "def submit_job(submit_dir, slurm_jobfile, sbatch_addargs=''):\n",
    "    print(f\"submitting slurm job of file {slurm_jobfile}\")\n",
    "    \n",
    "    # build sbatch command\n",
    "    sbatch_args = f\"{sbatch_addargs} {slurm_jobfile}\"\n",
    "    sbatch_cmd = ['sbatch'] + sbatch_args.split()\n",
    "    print(\"sbatch_cmd = \", sbatch_cmd)\n",
    "\n",
    "    # submit SLURM job\n",
    "    process = Popen(sbatch_cmd, stdin=PIPE, stdout=PIPE, stderr=PIPE, cwd=submit_dir)\n",
    "    \n",
    "    # block until finished and output stdout, stderr\n",
    "    stdout, stderr = process.communicate() \n",
    "    sbatch_out = stdout.decode(\"utf-8\")\n",
    "    sbatch_err = stderr.decode(\"utf-8\")\n",
    "    \n",
    "    print(\"---- stdout ----\")        \n",
    "    print(sbatch_out)\n",
    "    print(\"---- stderr ----\")\n",
    "    print(sbatch_err)\n",
    "        \n",
    "    if process.returncode != 0:\n",
    "        raise IpyExit\n",
    "    \n",
    "    # get SLURM job id\n",
    "    slurm_jobid = ''\n",
    "    if sbatch_out:\n",
    "        slurm_jobid = sbatch_out.split()[-1]\n",
    "    print(\"slurm_jobid = \", slurm_jobid)\n",
    "\n",
    "    # save SLURM job id to file\n",
    "    if slurm_jobid:\n",
    "        with open(f\"{submit_dir}/{slurm_jobfile}.sbatchout\", \"w\") as ofile:\n",
    "            print(\"jobid: {}\".format(slurm_jobid), file=ofile)"
   ]
  },
  {
   "cell_type": "code",
   "execution_count": null,
   "metadata": {},
   "outputs": [],
   "source": [
    "submit_dir_ia = \"scripts\"\n",
    "slurm_jobfile_ia = \"sbatch_stablebl\"\n",
    "\n",
    "submit_job(submit_dir_ia, slurm_jobfile_ia, '-vv')\n",
    "time.sleep(5)"
   ]
  }
 ],
 "metadata": {
  "kernelspec": {
   "display_name": "my_kernel_01",
   "language": "python",
   "name": "my_kernel_01"
  },
  "language_info": {
   "codemirror_mode": {
    "name": "ipython",
    "version": 3
   },
   "file_extension": ".py",
   "mimetype": "text/x-python",
   "name": "python",
   "nbconvert_exporter": "python",
   "pygments_lexer": "ipython3",
   "version": "3.6.8"
  }
 },
 "nbformat": 4,
 "nbformat_minor": 4
}
