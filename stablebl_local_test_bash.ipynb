{
 "cells": [
  {
   "cell_type": "markdown",
   "metadata": {},
   "source": [
    "# **Jupyter Notebook to test the library Stable Baselines in the Gym-Environment JuPong2D**"
   ]
  },
  {
   "cell_type": "code",
   "execution_count": null,
   "metadata": {},
   "outputs": [],
   "source": [
    "# Checking current directory, it should be the GitLab-Repository\n",
    "pwd"
   ]
  },
  {
   "cell_type": "code",
   "execution_count": null,
   "metadata": {},
   "outputs": [],
   "source": [
    "# Activating the virtal environment, which should be installed before running the notebook\n",
    "source lib/pong_deeprl/bin/activate"
   ]
  },
  {
   "cell_type": "code",
   "execution_count": null,
   "metadata": {},
   "outputs": [],
   "source": [
    "# Lists all possible command options of the Stable Baselines training and testing script\n",
    "deep_stablebl --help"
   ]
  },
  {
   "cell_type": "code",
   "execution_count": null,
   "metadata": {},
   "outputs": [],
   "source": [
    "# Starts a simple training of the Gym-Environment JuPong2D\n",
    "deep_stablebl --pl 0.5 --session 1 --tts 10000 --train-steps 3 results/stablebl_results"
   ]
  },
  {
   "cell_type": "code",
   "execution_count": null,
   "metadata": {},
   "outputs": [],
   "source": [
    "# Testing of the trained model by playing in different Gym-Environments, which depend on the parameters\n",
    "deep_stablebl --play --pl 0.5 --session 1 --play-steps 2 results/stablebl_results"
   ]
  },
  {
   "cell_type": "code",
   "execution_count": null,
   "metadata": {},
   "outputs": [],
   "source": [
    "# Plots the training results in a PDF-file\n",
    "plot_stablebl results/stablebl_results"
   ]
  }
 ],
 "metadata": {
  "kernelspec": {
   "display_name": "Bash",
   "language": "bash",
   "name": "bash"
  },
  "language_info": {
   "codemirror_mode": "shell",
   "file_extension": ".sh",
   "mimetype": "text/x-sh",
   "name": "bash"
  }
 },
 "nbformat": 4,
 "nbformat_minor": 4
}
